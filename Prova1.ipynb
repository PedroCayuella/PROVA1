{
 "cells": [
  {
   "cell_type": "code",
   "execution_count": 20,
   "id": "4b467272-ab5b-40bd-a7ca-b750e25d639c",
   "metadata": {},
   "outputs": [
    {
     "name": "stdout",
     "output_type": "stream",
     "text": [
      "3\n"
     ]
    }
   ],
   "source": [
    "# Criando a lista encadeada\n",
    "lista = ListaEncadeada()\n",
    "\n",
    "# inserindo numeros na lista encadeada:\n",
    "lista.inserir(5)\n",
    "lista.inserir(15)\n",
    "lista.inserir(25)\n",
    "\n",
    "# contando o numero de elementos:\n",
    "print(lista.contar())  # saída esperada: 3\n"
   ]
  },
  {
   "cell_type": "code",
   "execution_count": 22,
   "id": "71e33d33-637f-4755-9b30-46b53b308418",
   "metadata": {},
   "outputs": [
    {
     "name": "stdout",
     "output_type": "stream",
     "text": [
      "3\n"
     ]
    }
   ],
   "source": [
    "# Definindo o nó da lista\n",
    "class No:\n",
    "    def __init__(self, valor):\n",
    "        self.valor = valor\n",
    "        self.proximo = None\n",
    "\n",
    "# Definindo a lista encadeada\n",
    "class ListaEncadeada:\n",
    "    def __init__(self):\n",
    "        self.inicio = None\n",
    "\n",
    "    def inserir(self, valor):\n",
    "        novo_no = No(valor)\n",
    "        if self.inicio is None:\n",
    "            self.inicio = novo_no\n",
    "        else:\n",
    "            atual = self.inicio\n",
    "            while atual.proximo is not None:\n",
    "                atual = atual.proximo\n",
    "            atual.proximo = novo_no\n",
    "\n",
    "    def contar(self):\n",
    "        contador = 0\n",
    "        atual = self.inicio\n",
    "        while atual is not None:\n",
    "            contador += 1\n",
    "            atual = atual.proximo\n",
    "        return contador\n",
    "\n",
    "# Exemplo de uso:\n",
    "lista = ListaEncadeada()\n",
    "\n",
    "# Inserindo números\n",
    "lista.inserir(5)\n",
    "lista.inserir(15)\n",
    "lista.inserir(25)\n",
    "\n",
    "# Contando elementos\n",
    "print(lista.contar())  # Saída esperada: 3\n"
   ]
  },
  {
   "cell_type": "code",
   "execution_count": null,
   "id": "be74da9d-dbb2-4254-b0e1-fd77ac415166",
   "metadata": {},
   "outputs": [],
   "source": []
  }
 ],
 "metadata": {
  "kernelspec": {
   "display_name": "Python [conda env:base] *",
   "language": "python",
   "name": "conda-base-py"
  },
  "language_info": {
   "codemirror_mode": {
    "name": "ipython",
    "version": 3
   },
   "file_extension": ".py",
   "mimetype": "text/x-python",
   "name": "python",
   "nbconvert_exporter": "python",
   "pygments_lexer": "ipython3",
   "version": "3.12.7"
  }
 },
 "nbformat": 4,
 "nbformat_minor": 5
}
